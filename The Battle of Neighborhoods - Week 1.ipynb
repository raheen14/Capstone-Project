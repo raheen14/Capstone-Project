{
    "cells": [
        {
            "cell_type": "markdown",
            "metadata": {},
            "source": "_Note: Both questions are present in this single notebook._"
        },
        {
            "cell_type": "markdown",
            "metadata": {
                "collapsed": true
            },
            "source": "# **The Battle Of Neighborhoods:**"
        },
        {
            "cell_type": "markdown",
            "metadata": {},
            "source": " "
        },
        {
            "cell_type": "markdown",
            "metadata": {},
            "source": "## Introduction:"
        },
        {
            "cell_type": "markdown",
            "metadata": {},
            "source": "Istanbul, the capital city of Turkey has a rich cultural history and heritage. It has an immense cultural exchange due to the influence of European and Middle Eastern culture. Istanbul can be considered as the combination of the old and modern city, as well as a mixture of cultures in a captivating atmosphere. There are only few cities in the world that can be so delightful to experience and enjoy as Istanbul. Istanbul is considered to be the bridge that links Asia with Europe from a cultural and geographical standpoint.Istanbul offers an unforgettable experience for its travelers, with its colorful daily city life and dynamic nightlife. The beautiful silhouette of the city combines historical sites and monuments such as Roman aqueducts, Byzantine churches, Venetian towers, Ottoman palaces from the Byzantine, Ottoman and Turkish periods. \nIf I start writing about Istanbul, there will be no end to it as it offers so much to see and experience. Therefore, I will directly come to the point of discussion for the problem of this project.\n"
        },
        {
            "cell_type": "markdown",
            "metadata": {},
            "source": "  "
        },
        {
            "cell_type": "markdown",
            "metadata": {},
            "source": "## Business Problem:"
        },
        {
            "cell_type": "markdown",
            "metadata": {},
            "source": "There would not be any other city where I personally would like to start a cafe or restaurant other than Istanbul, Turkey. If you are in Istanbul, you are one step away from tasting the delicious meals of the Turkish cuisine. Istanbul offers a wide range of Turkish cuisine at the variety of well established, good and luxury Istanbul Restaurants.\n\nIn this project, I will be considering a problem to recommend places in Istanbul where a cafe or a restaurant can be opened. The interested party or the audience will be the entrepreneurs who want to set up their food chain in the marvelous city of Istanbul. The place can be a crowded one which is already considered a hub of cafes and restaurants or it can be a quiet place where not many entrepreneurs  have started cafes or restaurants yet. And this will be a good opportunity in my opinion so as to stand out from the rest.\n"
        },
        {
            "cell_type": "markdown",
            "metadata": {},
            "source": "  "
        },
        {
            "cell_type": "markdown",
            "metadata": {},
            "source": "## Data:"
        },
        {
            "cell_type": "markdown",
            "metadata": {},
            "source": "The following data will be used for this project:\n\n1. List of the districts of Istanbul.\n2. Geo-coordinates of the districts in Istanbul.\n3. Top venues of districts.\n\nThe details about the data is as follows.\n\n- List of districts will be obtained from Wikipedia. The link used is: https://en.m.wikipedia.org/wiki/List_of_districts_of_Istanbul \n\n- Geo-coordinates of districts will be obtained with the help of the geocoder tool in the notebook which will be imported using the library available in python.\n\n- Data about Top venues of Istanbul will be obtained from Foursquare API.Foursquare is a US tech company from New York focusing on location data. Their technology and data   powers apps such as Apple's Maps, Uber, Twitter etc."
        }
    ],
    "metadata": {
        "kernelspec": {
            "display_name": "Python 3.7",
            "language": "python",
            "name": "python3"
        },
        "language_info": {
            "codemirror_mode": {
                "name": "ipython",
                "version": 3
            },
            "file_extension": ".py",
            "mimetype": "text/x-python",
            "name": "python",
            "nbconvert_exporter": "python",
            "pygments_lexer": "ipython3",
            "version": "3.7.9"
        }
    },
    "nbformat": 4,
    "nbformat_minor": 1
}